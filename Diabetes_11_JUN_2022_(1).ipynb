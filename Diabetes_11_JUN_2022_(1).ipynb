{
  "nbformat": 4,
  "nbformat_minor": 0,
  "metadata": {
    "colab": {
      "provenance": [],
      "include_colab_link": true
    },
    "kernelspec": {
      "name": "python3",
      "display_name": "Python 3"
    },
    "language_info": {
      "name": "python"
    }
  },
  "cells": [
    {
      "cell_type": "markdown",
      "metadata": {
        "id": "view-in-github",
        "colab_type": "text"
      },
      "source": [
        "<a href=\"https://colab.research.google.com/github/Marin0306/Carpeta-de-evidencias/blob/main/Diabetes_11_JUN_2022_(1).ipynb\" target=\"_parent\"><img src=\"https://colab.research.google.com/assets/colab-badge.svg\" alt=\"Open In Colab\"/></a>"
      ]
    },
    {
      "cell_type": "markdown",
      "source": [
        "# **Red neuronal para el diagnóstico de diabetes**"
      ],
      "metadata": {
        "id": "k17Jx56xiQ_V"
      }
    },
    {
      "cell_type": "code",
      "source": [
        "from google.colab import drive\n",
        "drive.mount('/content/drive')"
      ],
      "metadata": {
        "colab": {
          "base_uri": "https://localhost:8080/"
        },
        "id": "txwVK2FewDF5",
        "outputId": "d8dc948f-1aff-4ebc-b2ed-61904169e406"
      },
      "execution_count": 1,
      "outputs": [
        {
          "output_type": "stream",
          "name": "stdout",
          "text": [
            "Mounted at /content/drive\n"
          ]
        }
      ]
    },
    {
      "cell_type": "markdown",
      "source": [
        "**Librerías**"
      ],
      "metadata": {
        "id": "gEoDcQJ5iWZn"
      }
    },
    {
      "cell_type": "code",
      "execution_count": 2,
      "metadata": {
        "id": "EgiKH5puY7WS"
      },
      "outputs": [],
      "source": [
        "from numpy import loadtxt\n",
        "from keras.models import Sequential\n",
        "from keras.layers import Dense\n",
        "import pandas as pd\n",
        "from sklearn.model_selection import train_test_split\n",
        "import tensorflow as tf\n",
        "import numpy as np"
      ]
    },
    {
      "cell_type": "markdown",
      "source": [
        "**Base de datos**"
      ],
      "metadata": {
        "id": "HDUr_3Aaibyq"
      }
    },
    {
      "cell_type": "code",
      "source": [
        "df = pd.read_csv('/content/drive/MyDrive/diabetes.csv')"
      ],
      "metadata": {
        "id": "ji-ZyIEpZHfB"
      },
      "execution_count": 4,
      "outputs": []
    },
    {
      "cell_type": "code",
      "source": [
        "df"
      ],
      "metadata": {
        "colab": {
          "base_uri": "https://localhost:8080/",
          "height": 424
        },
        "id": "0aIRLnYkZy_h",
        "outputId": "548f207c-820e-4442-8e39-bf34c547b1ed"
      },
      "execution_count": 5,
      "outputs": [
        {
          "output_type": "execute_result",
          "data": {
            "text/plain": [
              "     Pregnancies  Glucose  BloodPressure  SkinThickness  Insulin   BMI  \\\n",
              "0              6      148             72             35        0  33.6   \n",
              "1              1       85             66             29        0  26.6   \n",
              "2              8      183             64              0        0  23.3   \n",
              "3              1       89             66             23       94  28.1   \n",
              "4              0      137             40             35      168  43.1   \n",
              "..           ...      ...            ...            ...      ...   ...   \n",
              "763           10      101             76             48      180  32.9   \n",
              "764            2      122             70             27        0  36.8   \n",
              "765            5      121             72             23      112  26.2   \n",
              "766            1      126             60              0        0  30.1   \n",
              "767            1       93             70             31        0  30.4   \n",
              "\n",
              "     DiabetesPedigreeFunction  Age  Outcome  \n",
              "0                       0.627   50        1  \n",
              "1                       0.351   31        0  \n",
              "2                       0.672   32        1  \n",
              "3                       0.167   21        0  \n",
              "4                       2.288   33        1  \n",
              "..                        ...  ...      ...  \n",
              "763                     0.171   63        0  \n",
              "764                     0.340   27        0  \n",
              "765                     0.245   30        0  \n",
              "766                     0.349   47        1  \n",
              "767                     0.315   23        0  \n",
              "\n",
              "[768 rows x 9 columns]"
            ],
            "text/html": [
              "\n",
              "  <div id=\"df-d19d13dd-f053-4d8a-a91b-967a8cd2d607\">\n",
              "    <div class=\"colab-df-container\">\n",
              "      <div>\n",
              "<style scoped>\n",
              "    .dataframe tbody tr th:only-of-type {\n",
              "        vertical-align: middle;\n",
              "    }\n",
              "\n",
              "    .dataframe tbody tr th {\n",
              "        vertical-align: top;\n",
              "    }\n",
              "\n",
              "    .dataframe thead th {\n",
              "        text-align: right;\n",
              "    }\n",
              "</style>\n",
              "<table border=\"1\" class=\"dataframe\">\n",
              "  <thead>\n",
              "    <tr style=\"text-align: right;\">\n",
              "      <th></th>\n",
              "      <th>Pregnancies</th>\n",
              "      <th>Glucose</th>\n",
              "      <th>BloodPressure</th>\n",
              "      <th>SkinThickness</th>\n",
              "      <th>Insulin</th>\n",
              "      <th>BMI</th>\n",
              "      <th>DiabetesPedigreeFunction</th>\n",
              "      <th>Age</th>\n",
              "      <th>Outcome</th>\n",
              "    </tr>\n",
              "  </thead>\n",
              "  <tbody>\n",
              "    <tr>\n",
              "      <th>0</th>\n",
              "      <td>6</td>\n",
              "      <td>148</td>\n",
              "      <td>72</td>\n",
              "      <td>35</td>\n",
              "      <td>0</td>\n",
              "      <td>33.6</td>\n",
              "      <td>0.627</td>\n",
              "      <td>50</td>\n",
              "      <td>1</td>\n",
              "    </tr>\n",
              "    <tr>\n",
              "      <th>1</th>\n",
              "      <td>1</td>\n",
              "      <td>85</td>\n",
              "      <td>66</td>\n",
              "      <td>29</td>\n",
              "      <td>0</td>\n",
              "      <td>26.6</td>\n",
              "      <td>0.351</td>\n",
              "      <td>31</td>\n",
              "      <td>0</td>\n",
              "    </tr>\n",
              "    <tr>\n",
              "      <th>2</th>\n",
              "      <td>8</td>\n",
              "      <td>183</td>\n",
              "      <td>64</td>\n",
              "      <td>0</td>\n",
              "      <td>0</td>\n",
              "      <td>23.3</td>\n",
              "      <td>0.672</td>\n",
              "      <td>32</td>\n",
              "      <td>1</td>\n",
              "    </tr>\n",
              "    <tr>\n",
              "      <th>3</th>\n",
              "      <td>1</td>\n",
              "      <td>89</td>\n",
              "      <td>66</td>\n",
              "      <td>23</td>\n",
              "      <td>94</td>\n",
              "      <td>28.1</td>\n",
              "      <td>0.167</td>\n",
              "      <td>21</td>\n",
              "      <td>0</td>\n",
              "    </tr>\n",
              "    <tr>\n",
              "      <th>4</th>\n",
              "      <td>0</td>\n",
              "      <td>137</td>\n",
              "      <td>40</td>\n",
              "      <td>35</td>\n",
              "      <td>168</td>\n",
              "      <td>43.1</td>\n",
              "      <td>2.288</td>\n",
              "      <td>33</td>\n",
              "      <td>1</td>\n",
              "    </tr>\n",
              "    <tr>\n",
              "      <th>...</th>\n",
              "      <td>...</td>\n",
              "      <td>...</td>\n",
              "      <td>...</td>\n",
              "      <td>...</td>\n",
              "      <td>...</td>\n",
              "      <td>...</td>\n",
              "      <td>...</td>\n",
              "      <td>...</td>\n",
              "      <td>...</td>\n",
              "    </tr>\n",
              "    <tr>\n",
              "      <th>763</th>\n",
              "      <td>10</td>\n",
              "      <td>101</td>\n",
              "      <td>76</td>\n",
              "      <td>48</td>\n",
              "      <td>180</td>\n",
              "      <td>32.9</td>\n",
              "      <td>0.171</td>\n",
              "      <td>63</td>\n",
              "      <td>0</td>\n",
              "    </tr>\n",
              "    <tr>\n",
              "      <th>764</th>\n",
              "      <td>2</td>\n",
              "      <td>122</td>\n",
              "      <td>70</td>\n",
              "      <td>27</td>\n",
              "      <td>0</td>\n",
              "      <td>36.8</td>\n",
              "      <td>0.340</td>\n",
              "      <td>27</td>\n",
              "      <td>0</td>\n",
              "    </tr>\n",
              "    <tr>\n",
              "      <th>765</th>\n",
              "      <td>5</td>\n",
              "      <td>121</td>\n",
              "      <td>72</td>\n",
              "      <td>23</td>\n",
              "      <td>112</td>\n",
              "      <td>26.2</td>\n",
              "      <td>0.245</td>\n",
              "      <td>30</td>\n",
              "      <td>0</td>\n",
              "    </tr>\n",
              "    <tr>\n",
              "      <th>766</th>\n",
              "      <td>1</td>\n",
              "      <td>126</td>\n",
              "      <td>60</td>\n",
              "      <td>0</td>\n",
              "      <td>0</td>\n",
              "      <td>30.1</td>\n",
              "      <td>0.349</td>\n",
              "      <td>47</td>\n",
              "      <td>1</td>\n",
              "    </tr>\n",
              "    <tr>\n",
              "      <th>767</th>\n",
              "      <td>1</td>\n",
              "      <td>93</td>\n",
              "      <td>70</td>\n",
              "      <td>31</td>\n",
              "      <td>0</td>\n",
              "      <td>30.4</td>\n",
              "      <td>0.315</td>\n",
              "      <td>23</td>\n",
              "      <td>0</td>\n",
              "    </tr>\n",
              "  </tbody>\n",
              "</table>\n",
              "<p>768 rows × 9 columns</p>\n",
              "</div>\n",
              "      <button class=\"colab-df-convert\" onclick=\"convertToInteractive('df-d19d13dd-f053-4d8a-a91b-967a8cd2d607')\"\n",
              "              title=\"Convert this dataframe to an interactive table.\"\n",
              "              style=\"display:none;\">\n",
              "        \n",
              "  <svg xmlns=\"http://www.w3.org/2000/svg\" height=\"24px\"viewBox=\"0 0 24 24\"\n",
              "       width=\"24px\">\n",
              "    <path d=\"M0 0h24v24H0V0z\" fill=\"none\"/>\n",
              "    <path d=\"M18.56 5.44l.94 2.06.94-2.06 2.06-.94-2.06-.94-.94-2.06-.94 2.06-2.06.94zm-11 1L8.5 8.5l.94-2.06 2.06-.94-2.06-.94L8.5 2.5l-.94 2.06-2.06.94zm10 10l.94 2.06.94-2.06 2.06-.94-2.06-.94-.94-2.06-.94 2.06-2.06.94z\"/><path d=\"M17.41 7.96l-1.37-1.37c-.4-.4-.92-.59-1.43-.59-.52 0-1.04.2-1.43.59L10.3 9.45l-7.72 7.72c-.78.78-.78 2.05 0 2.83L4 21.41c.39.39.9.59 1.41.59.51 0 1.02-.2 1.41-.59l7.78-7.78 2.81-2.81c.8-.78.8-2.07 0-2.86zM5.41 20L4 18.59l7.72-7.72 1.47 1.35L5.41 20z\"/>\n",
              "  </svg>\n",
              "      </button>\n",
              "      \n",
              "  <style>\n",
              "    .colab-df-container {\n",
              "      display:flex;\n",
              "      flex-wrap:wrap;\n",
              "      gap: 12px;\n",
              "    }\n",
              "\n",
              "    .colab-df-convert {\n",
              "      background-color: #E8F0FE;\n",
              "      border: none;\n",
              "      border-radius: 50%;\n",
              "      cursor: pointer;\n",
              "      display: none;\n",
              "      fill: #1967D2;\n",
              "      height: 32px;\n",
              "      padding: 0 0 0 0;\n",
              "      width: 32px;\n",
              "    }\n",
              "\n",
              "    .colab-df-convert:hover {\n",
              "      background-color: #E2EBFA;\n",
              "      box-shadow: 0px 1px 2px rgba(60, 64, 67, 0.3), 0px 1px 3px 1px rgba(60, 64, 67, 0.15);\n",
              "      fill: #174EA6;\n",
              "    }\n",
              "\n",
              "    [theme=dark] .colab-df-convert {\n",
              "      background-color: #3B4455;\n",
              "      fill: #D2E3FC;\n",
              "    }\n",
              "\n",
              "    [theme=dark] .colab-df-convert:hover {\n",
              "      background-color: #434B5C;\n",
              "      box-shadow: 0px 1px 3px 1px rgba(0, 0, 0, 0.15);\n",
              "      filter: drop-shadow(0px 1px 2px rgba(0, 0, 0, 0.3));\n",
              "      fill: #FFFFFF;\n",
              "    }\n",
              "  </style>\n",
              "\n",
              "      <script>\n",
              "        const buttonEl =\n",
              "          document.querySelector('#df-d19d13dd-f053-4d8a-a91b-967a8cd2d607 button.colab-df-convert');\n",
              "        buttonEl.style.display =\n",
              "          google.colab.kernel.accessAllowed ? 'block' : 'none';\n",
              "\n",
              "        async function convertToInteractive(key) {\n",
              "          const element = document.querySelector('#df-d19d13dd-f053-4d8a-a91b-967a8cd2d607');\n",
              "          const dataTable =\n",
              "            await google.colab.kernel.invokeFunction('convertToInteractive',\n",
              "                                                     [key], {});\n",
              "          if (!dataTable) return;\n",
              "\n",
              "          const docLinkHtml = 'Like what you see? Visit the ' +\n",
              "            '<a target=\"_blank\" href=https://colab.research.google.com/notebooks/data_table.ipynb>data table notebook</a>'\n",
              "            + ' to learn more about interactive tables.';\n",
              "          element.innerHTML = '';\n",
              "          dataTable['output_type'] = 'display_data';\n",
              "          await google.colab.output.renderOutput(dataTable, element);\n",
              "          const docLink = document.createElement('div');\n",
              "          docLink.innerHTML = docLinkHtml;\n",
              "          element.appendChild(docLink);\n",
              "        }\n",
              "      </script>\n",
              "    </div>\n",
              "  </div>\n",
              "  "
            ]
          },
          "metadata": {},
          "execution_count": 5
        }
      ]
    },
    {
      "cell_type": "code",
      "source": [
        "features = df.drop('Outcome', axis=1)\n",
        "features"
      ],
      "metadata": {
        "colab": {
          "base_uri": "https://localhost:8080/",
          "height": 424
        },
        "id": "Ay1u4UhQdFv8",
        "outputId": "e2e1186d-a605-470b-da0f-edb88c12f3ac"
      },
      "execution_count": 6,
      "outputs": [
        {
          "output_type": "execute_result",
          "data": {
            "text/plain": [
              "     Pregnancies  Glucose  BloodPressure  SkinThickness  Insulin   BMI  \\\n",
              "0              6      148             72             35        0  33.6   \n",
              "1              1       85             66             29        0  26.6   \n",
              "2              8      183             64              0        0  23.3   \n",
              "3              1       89             66             23       94  28.1   \n",
              "4              0      137             40             35      168  43.1   \n",
              "..           ...      ...            ...            ...      ...   ...   \n",
              "763           10      101             76             48      180  32.9   \n",
              "764            2      122             70             27        0  36.8   \n",
              "765            5      121             72             23      112  26.2   \n",
              "766            1      126             60              0        0  30.1   \n",
              "767            1       93             70             31        0  30.4   \n",
              "\n",
              "     DiabetesPedigreeFunction  Age  \n",
              "0                       0.627   50  \n",
              "1                       0.351   31  \n",
              "2                       0.672   32  \n",
              "3                       0.167   21  \n",
              "4                       2.288   33  \n",
              "..                        ...  ...  \n",
              "763                     0.171   63  \n",
              "764                     0.340   27  \n",
              "765                     0.245   30  \n",
              "766                     0.349   47  \n",
              "767                     0.315   23  \n",
              "\n",
              "[768 rows x 8 columns]"
            ],
            "text/html": [
              "\n",
              "  <div id=\"df-561887bc-d3b0-4059-a4a1-289b4be528da\">\n",
              "    <div class=\"colab-df-container\">\n",
              "      <div>\n",
              "<style scoped>\n",
              "    .dataframe tbody tr th:only-of-type {\n",
              "        vertical-align: middle;\n",
              "    }\n",
              "\n",
              "    .dataframe tbody tr th {\n",
              "        vertical-align: top;\n",
              "    }\n",
              "\n",
              "    .dataframe thead th {\n",
              "        text-align: right;\n",
              "    }\n",
              "</style>\n",
              "<table border=\"1\" class=\"dataframe\">\n",
              "  <thead>\n",
              "    <tr style=\"text-align: right;\">\n",
              "      <th></th>\n",
              "      <th>Pregnancies</th>\n",
              "      <th>Glucose</th>\n",
              "      <th>BloodPressure</th>\n",
              "      <th>SkinThickness</th>\n",
              "      <th>Insulin</th>\n",
              "      <th>BMI</th>\n",
              "      <th>DiabetesPedigreeFunction</th>\n",
              "      <th>Age</th>\n",
              "    </tr>\n",
              "  </thead>\n",
              "  <tbody>\n",
              "    <tr>\n",
              "      <th>0</th>\n",
              "      <td>6</td>\n",
              "      <td>148</td>\n",
              "      <td>72</td>\n",
              "      <td>35</td>\n",
              "      <td>0</td>\n",
              "      <td>33.6</td>\n",
              "      <td>0.627</td>\n",
              "      <td>50</td>\n",
              "    </tr>\n",
              "    <tr>\n",
              "      <th>1</th>\n",
              "      <td>1</td>\n",
              "      <td>85</td>\n",
              "      <td>66</td>\n",
              "      <td>29</td>\n",
              "      <td>0</td>\n",
              "      <td>26.6</td>\n",
              "      <td>0.351</td>\n",
              "      <td>31</td>\n",
              "    </tr>\n",
              "    <tr>\n",
              "      <th>2</th>\n",
              "      <td>8</td>\n",
              "      <td>183</td>\n",
              "      <td>64</td>\n",
              "      <td>0</td>\n",
              "      <td>0</td>\n",
              "      <td>23.3</td>\n",
              "      <td>0.672</td>\n",
              "      <td>32</td>\n",
              "    </tr>\n",
              "    <tr>\n",
              "      <th>3</th>\n",
              "      <td>1</td>\n",
              "      <td>89</td>\n",
              "      <td>66</td>\n",
              "      <td>23</td>\n",
              "      <td>94</td>\n",
              "      <td>28.1</td>\n",
              "      <td>0.167</td>\n",
              "      <td>21</td>\n",
              "    </tr>\n",
              "    <tr>\n",
              "      <th>4</th>\n",
              "      <td>0</td>\n",
              "      <td>137</td>\n",
              "      <td>40</td>\n",
              "      <td>35</td>\n",
              "      <td>168</td>\n",
              "      <td>43.1</td>\n",
              "      <td>2.288</td>\n",
              "      <td>33</td>\n",
              "    </tr>\n",
              "    <tr>\n",
              "      <th>...</th>\n",
              "      <td>...</td>\n",
              "      <td>...</td>\n",
              "      <td>...</td>\n",
              "      <td>...</td>\n",
              "      <td>...</td>\n",
              "      <td>...</td>\n",
              "      <td>...</td>\n",
              "      <td>...</td>\n",
              "    </tr>\n",
              "    <tr>\n",
              "      <th>763</th>\n",
              "      <td>10</td>\n",
              "      <td>101</td>\n",
              "      <td>76</td>\n",
              "      <td>48</td>\n",
              "      <td>180</td>\n",
              "      <td>32.9</td>\n",
              "      <td>0.171</td>\n",
              "      <td>63</td>\n",
              "    </tr>\n",
              "    <tr>\n",
              "      <th>764</th>\n",
              "      <td>2</td>\n",
              "      <td>122</td>\n",
              "      <td>70</td>\n",
              "      <td>27</td>\n",
              "      <td>0</td>\n",
              "      <td>36.8</td>\n",
              "      <td>0.340</td>\n",
              "      <td>27</td>\n",
              "    </tr>\n",
              "    <tr>\n",
              "      <th>765</th>\n",
              "      <td>5</td>\n",
              "      <td>121</td>\n",
              "      <td>72</td>\n",
              "      <td>23</td>\n",
              "      <td>112</td>\n",
              "      <td>26.2</td>\n",
              "      <td>0.245</td>\n",
              "      <td>30</td>\n",
              "    </tr>\n",
              "    <tr>\n",
              "      <th>766</th>\n",
              "      <td>1</td>\n",
              "      <td>126</td>\n",
              "      <td>60</td>\n",
              "      <td>0</td>\n",
              "      <td>0</td>\n",
              "      <td>30.1</td>\n",
              "      <td>0.349</td>\n",
              "      <td>47</td>\n",
              "    </tr>\n",
              "    <tr>\n",
              "      <th>767</th>\n",
              "      <td>1</td>\n",
              "      <td>93</td>\n",
              "      <td>70</td>\n",
              "      <td>31</td>\n",
              "      <td>0</td>\n",
              "      <td>30.4</td>\n",
              "      <td>0.315</td>\n",
              "      <td>23</td>\n",
              "    </tr>\n",
              "  </tbody>\n",
              "</table>\n",
              "<p>768 rows × 8 columns</p>\n",
              "</div>\n",
              "      <button class=\"colab-df-convert\" onclick=\"convertToInteractive('df-561887bc-d3b0-4059-a4a1-289b4be528da')\"\n",
              "              title=\"Convert this dataframe to an interactive table.\"\n",
              "              style=\"display:none;\">\n",
              "        \n",
              "  <svg xmlns=\"http://www.w3.org/2000/svg\" height=\"24px\"viewBox=\"0 0 24 24\"\n",
              "       width=\"24px\">\n",
              "    <path d=\"M0 0h24v24H0V0z\" fill=\"none\"/>\n",
              "    <path d=\"M18.56 5.44l.94 2.06.94-2.06 2.06-.94-2.06-.94-.94-2.06-.94 2.06-2.06.94zm-11 1L8.5 8.5l.94-2.06 2.06-.94-2.06-.94L8.5 2.5l-.94 2.06-2.06.94zm10 10l.94 2.06.94-2.06 2.06-.94-2.06-.94-.94-2.06-.94 2.06-2.06.94z\"/><path d=\"M17.41 7.96l-1.37-1.37c-.4-.4-.92-.59-1.43-.59-.52 0-1.04.2-1.43.59L10.3 9.45l-7.72 7.72c-.78.78-.78 2.05 0 2.83L4 21.41c.39.39.9.59 1.41.59.51 0 1.02-.2 1.41-.59l7.78-7.78 2.81-2.81c.8-.78.8-2.07 0-2.86zM5.41 20L4 18.59l7.72-7.72 1.47 1.35L5.41 20z\"/>\n",
              "  </svg>\n",
              "      </button>\n",
              "      \n",
              "  <style>\n",
              "    .colab-df-container {\n",
              "      display:flex;\n",
              "      flex-wrap:wrap;\n",
              "      gap: 12px;\n",
              "    }\n",
              "\n",
              "    .colab-df-convert {\n",
              "      background-color: #E8F0FE;\n",
              "      border: none;\n",
              "      border-radius: 50%;\n",
              "      cursor: pointer;\n",
              "      display: none;\n",
              "      fill: #1967D2;\n",
              "      height: 32px;\n",
              "      padding: 0 0 0 0;\n",
              "      width: 32px;\n",
              "    }\n",
              "\n",
              "    .colab-df-convert:hover {\n",
              "      background-color: #E2EBFA;\n",
              "      box-shadow: 0px 1px 2px rgba(60, 64, 67, 0.3), 0px 1px 3px 1px rgba(60, 64, 67, 0.15);\n",
              "      fill: #174EA6;\n",
              "    }\n",
              "\n",
              "    [theme=dark] .colab-df-convert {\n",
              "      background-color: #3B4455;\n",
              "      fill: #D2E3FC;\n",
              "    }\n",
              "\n",
              "    [theme=dark] .colab-df-convert:hover {\n",
              "      background-color: #434B5C;\n",
              "      box-shadow: 0px 1px 3px 1px rgba(0, 0, 0, 0.15);\n",
              "      filter: drop-shadow(0px 1px 2px rgba(0, 0, 0, 0.3));\n",
              "      fill: #FFFFFF;\n",
              "    }\n",
              "  </style>\n",
              "\n",
              "      <script>\n",
              "        const buttonEl =\n",
              "          document.querySelector('#df-561887bc-d3b0-4059-a4a1-289b4be528da button.colab-df-convert');\n",
              "        buttonEl.style.display =\n",
              "          google.colab.kernel.accessAllowed ? 'block' : 'none';\n",
              "\n",
              "        async function convertToInteractive(key) {\n",
              "          const element = document.querySelector('#df-561887bc-d3b0-4059-a4a1-289b4be528da');\n",
              "          const dataTable =\n",
              "            await google.colab.kernel.invokeFunction('convertToInteractive',\n",
              "                                                     [key], {});\n",
              "          if (!dataTable) return;\n",
              "\n",
              "          const docLinkHtml = 'Like what you see? Visit the ' +\n",
              "            '<a target=\"_blank\" href=https://colab.research.google.com/notebooks/data_table.ipynb>data table notebook</a>'\n",
              "            + ' to learn more about interactive tables.';\n",
              "          element.innerHTML = '';\n",
              "          dataTable['output_type'] = 'display_data';\n",
              "          await google.colab.output.renderOutput(dataTable, element);\n",
              "          const docLink = document.createElement('div');\n",
              "          docLink.innerHTML = docLinkHtml;\n",
              "          element.appendChild(docLink);\n",
              "        }\n",
              "      </script>\n",
              "    </div>\n",
              "  </div>\n",
              "  "
            ]
          },
          "metadata": {},
          "execution_count": 6
        }
      ]
    },
    {
      "cell_type": "code",
      "source": [
        "target = df['Outcome']\n",
        "target"
      ],
      "metadata": {
        "id": "rl58tkEgdSQy",
        "colab": {
          "base_uri": "https://localhost:8080/"
        },
        "outputId": "3dbd0319-16b5-48b2-f953-c716a4639802"
      },
      "execution_count": 7,
      "outputs": [
        {
          "output_type": "execute_result",
          "data": {
            "text/plain": [
              "0      1\n",
              "1      0\n",
              "2      1\n",
              "3      0\n",
              "4      1\n",
              "      ..\n",
              "763    0\n",
              "764    0\n",
              "765    0\n",
              "766    1\n",
              "767    0\n",
              "Name: Outcome, Length: 768, dtype: int64"
            ]
          },
          "metadata": {},
          "execution_count": 7
        }
      ]
    },
    {
      "cell_type": "markdown",
      "source": [
        "**Creación del conjunto de entrenamiento y validación**"
      ],
      "metadata": {
        "id": "WOHSD8gRihPD"
      }
    },
    {
      "cell_type": "code",
      "source": [
        "X_train, X_test, y_train, y_test = train_test_split(features, target, test_size = 0.1)"
      ],
      "metadata": {
        "id": "IsoWyCOTaI8U"
      },
      "execution_count": 8,
      "outputs": []
    },
    {
      "cell_type": "markdown",
      "source": [
        "**Definición del modelo**"
      ],
      "metadata": {
        "id": "iQ7wnwEJil-2"
      }
    },
    {
      "cell_type": "code",
      "source": [
        "#Hiper parámetros a modificar para convergencia\n",
        "#1 número de neuronas\n",
        "#2 número de capas\n",
        "#3 funciones de activación (sin modificar la última activación)\n",
        "#4 Optimizador\n",
        "#5 número de epocas"
      ],
      "metadata": {
        "id": "XQgPRgRUcI4r"
      },
      "execution_count": 9,
      "outputs": []
    },
    {
      "cell_type": "code",
      "source": [
        "# Los parámetros que el programador modifique se llaman hyper parámetros\n",
        "# Los parámetros que la computadora modifica se llaman parámetros"
      ],
      "metadata": {
        "id": "lVuIPxR4WqNu"
      },
      "execution_count": 10,
      "outputs": []
    },
    {
      "cell_type": "code",
      "source": [
        "model = Sequential()  #se crea el modelo\n",
        "\n",
        "model.add(Dense(8, input_dim=8, activation='sigmoid'))  #capa de entrada de 8 neuronas, la primer capa oculta=8 neuronas, fnc act relu\n",
        "model.add(Dense(16, activation='sigmoid'))\n",
        "model.add(Dense(8, activation='sigmoid'))\n",
        "model.add(Dense(1, activation='sigmoid'))\n",
        "\n",
        "print(\"Se ha creado una red neuronal con 5 capas (tres capas oculatas)\")"
      ],
      "metadata": {
        "id": "Hwqyqop4gUOZ"
      },
      "execution_count": null,
      "outputs": []
    },
    {
      "cell_type": "markdown",
      "source": [
        "**Compilación del modelo**"
      ],
      "metadata": {
        "id": "U2YA1khmiryd"
      }
    },
    {
      "cell_type": "code",
      "source": [
        "#opt = tf.keras.optimizers.SGD(learning_rate=0.001, momentum=0.9, nesterov=False, name='SGD')\n",
        "opt = 'Adam'\n",
        "\n",
        "model.compile(loss='binary_crossentropy', optimizer=opt, metrics=['accuracy'])"
      ],
      "metadata": {
        "id": "pRl7bjzydazO"
      },
      "execution_count": 12,
      "outputs": []
    },
    {
      "cell_type": "markdown",
      "source": [
        "**Entrenamiento**"
      ],
      "metadata": {
        "id": "NJrRnYCjiwSx"
      }
    },
    {
      "cell_type": "code",
      "source": [
        "historial = model.fit(X_train, y_train, \n",
        "          epochs=100, \n",
        "          batch_size=10,\n",
        "          validation_data = [X_test, y_test],\n",
        "          verbose=1)"
      ],
      "metadata": {
        "colab": {
          "base_uri": "https://localhost:8080/"
        },
        "id": "D6QT6yWwddqT",
        "outputId": "c603997c-06bd-42e7-ff18-c1b6743a8030"
      },
      "execution_count": 13,
      "outputs": [
        {
          "output_type": "stream",
          "name": "stdout",
          "text": [
            "Epoch 1/100\n",
            "70/70 [==============================] - 2s 5ms/step - loss: 0.6431 - accuracy: 0.6599 - val_loss: 0.7022 - val_accuracy: 0.5714\n",
            "Epoch 2/100\n",
            "70/70 [==============================] - 0s 2ms/step - loss: 0.6399 - accuracy: 0.6599 - val_loss: 0.7016 - val_accuracy: 0.5714\n",
            "Epoch 3/100\n",
            "70/70 [==============================] - 0s 2ms/step - loss: 0.6391 - accuracy: 0.6599 - val_loss: 0.6953 - val_accuracy: 0.5714\n",
            "Epoch 4/100\n",
            "70/70 [==============================] - 0s 2ms/step - loss: 0.6374 - accuracy: 0.6599 - val_loss: 0.6975 - val_accuracy: 0.5714\n",
            "Epoch 5/100\n",
            "70/70 [==============================] - 0s 2ms/step - loss: 0.6356 - accuracy: 0.6599 - val_loss: 0.6971 - val_accuracy: 0.5714\n",
            "Epoch 6/100\n",
            "70/70 [==============================] - 0s 2ms/step - loss: 0.6336 - accuracy: 0.6599 - val_loss: 0.6967 - val_accuracy: 0.5714\n",
            "Epoch 7/100\n",
            "70/70 [==============================] - 0s 3ms/step - loss: 0.6318 - accuracy: 0.6599 - val_loss: 0.6934 - val_accuracy: 0.5714\n",
            "Epoch 8/100\n",
            "70/70 [==============================] - 0s 3ms/step - loss: 0.6288 - accuracy: 0.6599 - val_loss: 0.6930 - val_accuracy: 0.5714\n",
            "Epoch 9/100\n",
            "70/70 [==============================] - 0s 3ms/step - loss: 0.6266 - accuracy: 0.6599 - val_loss: 0.6867 - val_accuracy: 0.5714\n",
            "Epoch 10/100\n",
            "70/70 [==============================] - 0s 2ms/step - loss: 0.6232 - accuracy: 0.6599 - val_loss: 0.6876 - val_accuracy: 0.5714\n",
            "Epoch 11/100\n",
            "70/70 [==============================] - 0s 2ms/step - loss: 0.6191 - accuracy: 0.6599 - val_loss: 0.6833 - val_accuracy: 0.5714\n",
            "Epoch 12/100\n",
            "70/70 [==============================] - 0s 2ms/step - loss: 0.6158 - accuracy: 0.6599 - val_loss: 0.6807 - val_accuracy: 0.5714\n",
            "Epoch 13/100\n",
            "70/70 [==============================] - 0s 2ms/step - loss: 0.6130 - accuracy: 0.6599 - val_loss: 0.6796 - val_accuracy: 0.5714\n",
            "Epoch 14/100\n",
            "70/70 [==============================] - 0s 2ms/step - loss: 0.6082 - accuracy: 0.6599 - val_loss: 0.6799 - val_accuracy: 0.5714\n",
            "Epoch 15/100\n",
            "70/70 [==============================] - 0s 2ms/step - loss: 0.6060 - accuracy: 0.6599 - val_loss: 0.6711 - val_accuracy: 0.5714\n",
            "Epoch 16/100\n",
            "70/70 [==============================] - 0s 2ms/step - loss: 0.6022 - accuracy: 0.6599 - val_loss: 0.6865 - val_accuracy: 0.5714\n",
            "Epoch 17/100\n",
            "70/70 [==============================] - 0s 3ms/step - loss: 0.6001 - accuracy: 0.6599 - val_loss: 0.6746 - val_accuracy: 0.5714\n",
            "Epoch 18/100\n",
            "70/70 [==============================] - 0s 2ms/step - loss: 0.5969 - accuracy: 0.6599 - val_loss: 0.6783 - val_accuracy: 0.5714\n",
            "Epoch 19/100\n",
            "70/70 [==============================] - 0s 2ms/step - loss: 0.5951 - accuracy: 0.6643 - val_loss: 0.6742 - val_accuracy: 0.5974\n",
            "Epoch 20/100\n",
            "70/70 [==============================] - 0s 2ms/step - loss: 0.5927 - accuracy: 0.6773 - val_loss: 0.6931 - val_accuracy: 0.5714\n",
            "Epoch 21/100\n",
            "70/70 [==============================] - 0s 2ms/step - loss: 0.5925 - accuracy: 0.6773 - val_loss: 0.6724 - val_accuracy: 0.5714\n",
            "Epoch 22/100\n",
            "70/70 [==============================] - 0s 3ms/step - loss: 0.5908 - accuracy: 0.6903 - val_loss: 0.6695 - val_accuracy: 0.5974\n",
            "Epoch 23/100\n",
            "70/70 [==============================] - 0s 2ms/step - loss: 0.5883 - accuracy: 0.6758 - val_loss: 0.6685 - val_accuracy: 0.5714\n",
            "Epoch 24/100\n",
            "70/70 [==============================] - 0s 3ms/step - loss: 0.5867 - accuracy: 0.6744 - val_loss: 0.6754 - val_accuracy: 0.5714\n",
            "Epoch 25/100\n",
            "70/70 [==============================] - 0s 5ms/step - loss: 0.5859 - accuracy: 0.6744 - val_loss: 0.6613 - val_accuracy: 0.5844\n",
            "Epoch 26/100\n",
            "70/70 [==============================] - 0s 3ms/step - loss: 0.5847 - accuracy: 0.6729 - val_loss: 0.6803 - val_accuracy: 0.5714\n",
            "Epoch 27/100\n",
            "70/70 [==============================] - 0s 3ms/step - loss: 0.5818 - accuracy: 0.6715 - val_loss: 0.6626 - val_accuracy: 0.5844\n",
            "Epoch 28/100\n",
            "70/70 [==============================] - 0s 4ms/step - loss: 0.5796 - accuracy: 0.6889 - val_loss: 0.6672 - val_accuracy: 0.6104\n",
            "Epoch 29/100\n",
            "70/70 [==============================] - 0s 3ms/step - loss: 0.5806 - accuracy: 0.6845 - val_loss: 0.6799 - val_accuracy: 0.5844\n",
            "Epoch 30/100\n",
            "70/70 [==============================] - 0s 2ms/step - loss: 0.5780 - accuracy: 0.6845 - val_loss: 0.6579 - val_accuracy: 0.5974\n",
            "Epoch 31/100\n",
            "70/70 [==============================] - 0s 2ms/step - loss: 0.5765 - accuracy: 0.6903 - val_loss: 0.6786 - val_accuracy: 0.5844\n",
            "Epoch 32/100\n",
            "70/70 [==============================] - 0s 4ms/step - loss: 0.5753 - accuracy: 0.6918 - val_loss: 0.6487 - val_accuracy: 0.6104\n",
            "Epoch 33/100\n",
            "70/70 [==============================] - 0s 2ms/step - loss: 0.5777 - accuracy: 0.6758 - val_loss: 0.6698 - val_accuracy: 0.6234\n",
            "Epoch 34/100\n",
            "70/70 [==============================] - 0s 2ms/step - loss: 0.5757 - accuracy: 0.6946 - val_loss: 0.6542 - val_accuracy: 0.6104\n",
            "Epoch 35/100\n",
            "70/70 [==============================] - 0s 2ms/step - loss: 0.5729 - accuracy: 0.7004 - val_loss: 0.6488 - val_accuracy: 0.6104\n",
            "Epoch 36/100\n",
            "70/70 [==============================] - 0s 2ms/step - loss: 0.5697 - accuracy: 0.7048 - val_loss: 0.6580 - val_accuracy: 0.5974\n",
            "Epoch 37/100\n",
            "70/70 [==============================] - 0s 2ms/step - loss: 0.5680 - accuracy: 0.7062 - val_loss: 0.6576 - val_accuracy: 0.5974\n",
            "Epoch 38/100\n",
            "70/70 [==============================] - 0s 2ms/step - loss: 0.5672 - accuracy: 0.7062 - val_loss: 0.6405 - val_accuracy: 0.6104\n",
            "Epoch 39/100\n",
            "70/70 [==============================] - 0s 2ms/step - loss: 0.5677 - accuracy: 0.7106 - val_loss: 0.6588 - val_accuracy: 0.5844\n",
            "Epoch 40/100\n",
            "70/70 [==============================] - 0s 2ms/step - loss: 0.5675 - accuracy: 0.7106 - val_loss: 0.6433 - val_accuracy: 0.6104\n",
            "Epoch 41/100\n",
            "70/70 [==============================] - 0s 3ms/step - loss: 0.5649 - accuracy: 0.7120 - val_loss: 0.6409 - val_accuracy: 0.6104\n",
            "Epoch 42/100\n",
            "70/70 [==============================] - 0s 4ms/step - loss: 0.5722 - accuracy: 0.7048 - val_loss: 0.6368 - val_accuracy: 0.6104\n",
            "Epoch 43/100\n",
            "70/70 [==============================] - 0s 3ms/step - loss: 0.5653 - accuracy: 0.7091 - val_loss: 0.6511 - val_accuracy: 0.5974\n",
            "Epoch 44/100\n",
            "70/70 [==============================] - 0s 3ms/step - loss: 0.5626 - accuracy: 0.7048 - val_loss: 0.6387 - val_accuracy: 0.6104\n",
            "Epoch 45/100\n",
            "70/70 [==============================] - 0s 3ms/step - loss: 0.5626 - accuracy: 0.7004 - val_loss: 0.6326 - val_accuracy: 0.6234\n",
            "Epoch 46/100\n",
            "70/70 [==============================] - 0s 3ms/step - loss: 0.5621 - accuracy: 0.7149 - val_loss: 0.6445 - val_accuracy: 0.5974\n",
            "Epoch 47/100\n",
            "70/70 [==============================] - 0s 3ms/step - loss: 0.5636 - accuracy: 0.7120 - val_loss: 0.6324 - val_accuracy: 0.6104\n",
            "Epoch 48/100\n",
            "70/70 [==============================] - 0s 3ms/step - loss: 0.5610 - accuracy: 0.7062 - val_loss: 0.6417 - val_accuracy: 0.5974\n",
            "Epoch 49/100\n",
            "70/70 [==============================] - 0s 3ms/step - loss: 0.5613 - accuracy: 0.7120 - val_loss: 0.6366 - val_accuracy: 0.5974\n",
            "Epoch 50/100\n",
            "70/70 [==============================] - 0s 3ms/step - loss: 0.5610 - accuracy: 0.7048 - val_loss: 0.6226 - val_accuracy: 0.6364\n",
            "Epoch 51/100\n",
            "70/70 [==============================] - 0s 3ms/step - loss: 0.5588 - accuracy: 0.7207 - val_loss: 0.6477 - val_accuracy: 0.5974\n",
            "Epoch 52/100\n",
            "70/70 [==============================] - 0s 3ms/step - loss: 0.5591 - accuracy: 0.7178 - val_loss: 0.6276 - val_accuracy: 0.6104\n",
            "Epoch 53/100\n",
            "70/70 [==============================] - 0s 3ms/step - loss: 0.5703 - accuracy: 0.7062 - val_loss: 0.6491 - val_accuracy: 0.5974\n",
            "Epoch 54/100\n",
            "70/70 [==============================] - 0s 3ms/step - loss: 0.5568 - accuracy: 0.7120 - val_loss: 0.6233 - val_accuracy: 0.6104\n",
            "Epoch 55/100\n",
            "70/70 [==============================] - 0s 3ms/step - loss: 0.5569 - accuracy: 0.7164 - val_loss: 0.6690 - val_accuracy: 0.5844\n",
            "Epoch 56/100\n",
            "70/70 [==============================] - 0s 3ms/step - loss: 0.5639 - accuracy: 0.7207 - val_loss: 0.6362 - val_accuracy: 0.6104\n",
            "Epoch 57/100\n",
            "70/70 [==============================] - 0s 3ms/step - loss: 0.5598 - accuracy: 0.7221 - val_loss: 0.6187 - val_accuracy: 0.6234\n",
            "Epoch 58/100\n",
            "70/70 [==============================] - 0s 3ms/step - loss: 0.5604 - accuracy: 0.7192 - val_loss: 0.6291 - val_accuracy: 0.6104\n",
            "Epoch 59/100\n",
            "70/70 [==============================] - 0s 3ms/step - loss: 0.5590 - accuracy: 0.7120 - val_loss: 0.6507 - val_accuracy: 0.5974\n",
            "Epoch 60/100\n",
            "70/70 [==============================] - 0s 3ms/step - loss: 0.5564 - accuracy: 0.7149 - val_loss: 0.6356 - val_accuracy: 0.5974\n",
            "Epoch 61/100\n",
            "70/70 [==============================] - 0s 3ms/step - loss: 0.5567 - accuracy: 0.7192 - val_loss: 0.6364 - val_accuracy: 0.6104\n",
            "Epoch 62/100\n",
            "70/70 [==============================] - 0s 2ms/step - loss: 0.5574 - accuracy: 0.7192 - val_loss: 0.6332 - val_accuracy: 0.6104\n",
            "Epoch 63/100\n",
            "70/70 [==============================] - 0s 2ms/step - loss: 0.5572 - accuracy: 0.7250 - val_loss: 0.6268 - val_accuracy: 0.6234\n",
            "Epoch 64/100\n",
            "70/70 [==============================] - 0s 2ms/step - loss: 0.5567 - accuracy: 0.7221 - val_loss: 0.6426 - val_accuracy: 0.6104\n",
            "Epoch 65/100\n",
            "70/70 [==============================] - 0s 2ms/step - loss: 0.5552 - accuracy: 0.7192 - val_loss: 0.6329 - val_accuracy: 0.6104\n",
            "Epoch 66/100\n",
            "70/70 [==============================] - 0s 2ms/step - loss: 0.5605 - accuracy: 0.7178 - val_loss: 0.6252 - val_accuracy: 0.6104\n",
            "Epoch 67/100\n",
            "70/70 [==============================] - 0s 2ms/step - loss: 0.5574 - accuracy: 0.7178 - val_loss: 0.6332 - val_accuracy: 0.5974\n",
            "Epoch 68/100\n",
            "70/70 [==============================] - 0s 2ms/step - loss: 0.5556 - accuracy: 0.7207 - val_loss: 0.6234 - val_accuracy: 0.6234\n",
            "Epoch 69/100\n",
            "70/70 [==============================] - 0s 2ms/step - loss: 0.5571 - accuracy: 0.7164 - val_loss: 0.6381 - val_accuracy: 0.6104\n",
            "Epoch 70/100\n",
            "70/70 [==============================] - 0s 3ms/step - loss: 0.5573 - accuracy: 0.7164 - val_loss: 0.6509 - val_accuracy: 0.6104\n",
            "Epoch 71/100\n",
            "70/70 [==============================] - 0s 2ms/step - loss: 0.5557 - accuracy: 0.7250 - val_loss: 0.6234 - val_accuracy: 0.6104\n",
            "Epoch 72/100\n",
            "70/70 [==============================] - 0s 2ms/step - loss: 0.5539 - accuracy: 0.7279 - val_loss: 0.6132 - val_accuracy: 0.6364\n",
            "Epoch 73/100\n",
            "70/70 [==============================] - 0s 2ms/step - loss: 0.5545 - accuracy: 0.7207 - val_loss: 0.6458 - val_accuracy: 0.6234\n",
            "Epoch 74/100\n",
            "70/70 [==============================] - 0s 2ms/step - loss: 0.5568 - accuracy: 0.7279 - val_loss: 0.6228 - val_accuracy: 0.5974\n",
            "Epoch 75/100\n",
            "70/70 [==============================] - 0s 2ms/step - loss: 0.5541 - accuracy: 0.7265 - val_loss: 0.6182 - val_accuracy: 0.6234\n",
            "Epoch 76/100\n",
            "70/70 [==============================] - 0s 2ms/step - loss: 0.5533 - accuracy: 0.7250 - val_loss: 0.6245 - val_accuracy: 0.6234\n",
            "Epoch 77/100\n",
            "70/70 [==============================] - 0s 3ms/step - loss: 0.5546 - accuracy: 0.7265 - val_loss: 0.6108 - val_accuracy: 0.6364\n",
            "Epoch 78/100\n",
            "70/70 [==============================] - 0s 2ms/step - loss: 0.5534 - accuracy: 0.7265 - val_loss: 0.6388 - val_accuracy: 0.6104\n",
            "Epoch 79/100\n",
            "70/70 [==============================] - 0s 2ms/step - loss: 0.5516 - accuracy: 0.7352 - val_loss: 0.6158 - val_accuracy: 0.6234\n",
            "Epoch 80/100\n",
            "70/70 [==============================] - 0s 2ms/step - loss: 0.5570 - accuracy: 0.7207 - val_loss: 0.6126 - val_accuracy: 0.6234\n",
            "Epoch 81/100\n",
            "70/70 [==============================] - 0s 2ms/step - loss: 0.5545 - accuracy: 0.7135 - val_loss: 0.6443 - val_accuracy: 0.5974\n",
            "Epoch 82/100\n",
            "70/70 [==============================] - 0s 2ms/step - loss: 0.5515 - accuracy: 0.7236 - val_loss: 0.6146 - val_accuracy: 0.6104\n",
            "Epoch 83/100\n",
            "70/70 [==============================] - 0s 2ms/step - loss: 0.5581 - accuracy: 0.7207 - val_loss: 0.6444 - val_accuracy: 0.5974\n",
            "Epoch 84/100\n",
            "70/70 [==============================] - 0s 2ms/step - loss: 0.5552 - accuracy: 0.7192 - val_loss: 0.6405 - val_accuracy: 0.5974\n",
            "Epoch 85/100\n",
            "70/70 [==============================] - 0s 2ms/step - loss: 0.5517 - accuracy: 0.7236 - val_loss: 0.6277 - val_accuracy: 0.6104\n",
            "Epoch 86/100\n",
            "70/70 [==============================] - 0s 2ms/step - loss: 0.5526 - accuracy: 0.7178 - val_loss: 0.6476 - val_accuracy: 0.5974\n",
            "Epoch 87/100\n",
            "70/70 [==============================] - 0s 2ms/step - loss: 0.5544 - accuracy: 0.7192 - val_loss: 0.6322 - val_accuracy: 0.6234\n",
            "Epoch 88/100\n",
            "70/70 [==============================] - 0s 3ms/step - loss: 0.5526 - accuracy: 0.7279 - val_loss: 0.6225 - val_accuracy: 0.6234\n",
            "Epoch 89/100\n",
            "70/70 [==============================] - 0s 2ms/step - loss: 0.5550 - accuracy: 0.7192 - val_loss: 0.6558 - val_accuracy: 0.5974\n",
            "Epoch 90/100\n",
            "70/70 [==============================] - 0s 2ms/step - loss: 0.5603 - accuracy: 0.7250 - val_loss: 0.6378 - val_accuracy: 0.6104\n",
            "Epoch 91/100\n",
            "70/70 [==============================] - 0s 3ms/step - loss: 0.5525 - accuracy: 0.7250 - val_loss: 0.6321 - val_accuracy: 0.6234\n",
            "Epoch 92/100\n",
            "70/70 [==============================] - 0s 2ms/step - loss: 0.5549 - accuracy: 0.7250 - val_loss: 0.6432 - val_accuracy: 0.5974\n",
            "Epoch 93/100\n",
            "70/70 [==============================] - 0s 3ms/step - loss: 0.5527 - accuracy: 0.7265 - val_loss: 0.6261 - val_accuracy: 0.6104\n",
            "Epoch 94/100\n",
            "70/70 [==============================] - 0s 2ms/step - loss: 0.5527 - accuracy: 0.7250 - val_loss: 0.6148 - val_accuracy: 0.6234\n",
            "Epoch 95/100\n",
            "70/70 [==============================] - 0s 3ms/step - loss: 0.5522 - accuracy: 0.7207 - val_loss: 0.6402 - val_accuracy: 0.6104\n",
            "Epoch 96/100\n",
            "70/70 [==============================] - 0s 2ms/step - loss: 0.5565 - accuracy: 0.7164 - val_loss: 0.6331 - val_accuracy: 0.6104\n",
            "Epoch 97/100\n",
            "70/70 [==============================] - 0s 2ms/step - loss: 0.5480 - accuracy: 0.7294 - val_loss: 0.6436 - val_accuracy: 0.6104\n",
            "Epoch 98/100\n",
            "70/70 [==============================] - 0s 2ms/step - loss: 0.5528 - accuracy: 0.7250 - val_loss: 0.6293 - val_accuracy: 0.6104\n",
            "Epoch 99/100\n",
            "70/70 [==============================] - 0s 3ms/step - loss: 0.5525 - accuracy: 0.7323 - val_loss: 0.6232 - val_accuracy: 0.6104\n",
            "Epoch 100/100\n",
            "70/70 [==============================] - 0s 2ms/step - loss: 0.5505 - accuracy: 0.7323 - val_loss: 0.6127 - val_accuracy: 0.6364\n"
          ]
        }
      ]
    },
    {
      "cell_type": "markdown",
      "source": [
        "**Curvas de entrenamiento**"
      ],
      "metadata": {
        "id": "fYT3cBa4jiat"
      }
    },
    {
      "cell_type": "code",
      "source": [
        "import matplotlib.pyplot as plt\n",
        "\n",
        "acc = historial.history['accuracy']\n",
        "val_acc = historial.history['val_accuracy']\n",
        "loss = historial.history['loss']\n",
        "val_loss = historial.history['val_loss']\n",
        "\n",
        "epochs = range(len(acc))\n",
        "\n",
        "plt.plot(epochs, acc, 'r', label='Training acc')\n",
        "plt.plot(epochs, val_acc, 'b', label='Validation acc')\n",
        "plt.title('Training and validation accuracy')\n",
        "plt.legend()\n",
        "\n",
        "plt.figure()\n",
        "\n",
        "plt.plot(epochs, loss, 'r', label='Training loss')\n",
        "plt.plot(epochs, val_loss, 'b', label='Validation loss')\n",
        "plt.title('Training and validation loss')\n",
        "plt.legend()\n",
        "\n",
        "plt.show()"
      ],
      "metadata": {
        "colab": {
          "base_uri": "https://localhost:8080/",
          "height": 887
        },
        "id": "RmhfIGZNjlYu",
        "outputId": "12216a4e-81b0-4361-aad2-e93bcebc5521"
      },
      "execution_count": 14,
      "outputs": [
        {
          "output_type": "display_data",
          "data": {
            "text/plain": [
              "<Figure size 640x480 with 1 Axes>"
            ],
            "image/png": "[encoded data removed]"
          },
          "metadata": {}
        },
        {
          "output_type": "display_data",
          "data": {
            "text/plain": [
              "<Figure size 640x480 with 1 Axes>"
            ],
            "image/png": "[encoded data removed]"
          },
          "metadata": {}
        }
      ]
    },
    {
      "cell_type": "markdown",
      "source": [
        "**Evaluación del modelo con el set de entrenamiento**"
      ],
      "metadata": {
        "id": "dnHYngHAi9F3"
      }
    },
    {
      "cell_type": "code",
      "source": [
        "_, accuracy = model.evaluate(X_train, y_train)\n",
        "print('Accuracy: %.2f' % (accuracy*100))"
      ],
      "metadata": {
        "id": "caNw7QxKdifT",
        "colab": {
          "base_uri": "https://localhost:8080/"
        },
        "outputId": "ca04f1c8-408c-4acc-f530-40643f435e25"
      },
      "execution_count": 15,
      "outputs": [
        {
          "output_type": "stream",
          "name": "stdout",
          "text": [
            "22/22 [==============================] - 0s 3ms/step - loss: 0.5502 - accuracy: 0.7265\n",
            "Accuracy: 72.65\n"
          ]
        }
      ]
    },
    {
      "cell_type": "markdown",
      "source": [
        "**Evaluación del modelo con el set de validación**"
      ],
      "metadata": {
        "id": "jvsDVuH0jE03"
      }
    },
    {
      "cell_type": "code",
      "source": [
        "_, accuracy = model.evaluate(X_test, y_test)\n",
        "print('Accuracy: %.2f' % (accuracy*100))"
      ],
      "metadata": {
        "colab": {
          "base_uri": "https://localhost:8080/"
        },
        "id": "v8ze38vwg5Tz",
        "outputId": "2129ee62-86db-48cd-bcbf-ba6f27b656bf"
      },
      "execution_count": 16,
      "outputs": [
        {
          "output_type": "stream",
          "name": "stdout",
          "text": [
            "3/3 [==============================] - 0s 4ms/step - loss: 0.6127 - accuracy: 0.6364\n",
            "Accuracy: 63.64\n"
          ]
        }
      ]
    },
    {
      "cell_type": "markdown",
      "source": [
        "**Predicciones con el set de validación**"
      ],
      "metadata": {
        "id": "EtN9lvnMjIii"
      }
    },
    {
      "cell_type": "code",
      "source": [
        "predictions = model.predict(X_test)\n",
        "rounded = [round(x[0]) for x in predictions]\n",
        "\n",
        "from sklearn.metrics import classification_report\n",
        "from sklearn.metrics import confusion_matrix\n",
        "\n",
        "matriz = confusion_matrix(y_test, rounded)\n",
        "df_matriz = pd.DataFrame(matriz)\n",
        "df_matriz.style.background_gradient()"
      ],
      "metadata": {
        "colab": {
          "base_uri": "https://localhost:8080/",
          "height": 130
        },
        "id": "Wvs2IG4tgfgh",
        "outputId": "cea469c4-e91e-454b-e77c-72d06af5ab08"
      },
      "execution_count": 17,
      "outputs": [
        {
          "output_type": "stream",
          "name": "stdout",
          "text": [
            "3/3 [==============================] - 0s 3ms/step\n"
          ]
        },
        {
          "output_type": "execute_result",
          "data": {
            "text/plain": [
              "<pandas.io.formats.style.Styler at 0x7f19f0873fa0>"
            ],
            "text/html": [
              "<style type=\"text/css\">\n",
              "#T_e2eaa_row0_col0, #T_e2eaa_row1_col1 {\n",
              "  background-color: #023858;\n",
              "  color: #f1f1f1;\n",
              "}\n",
              "#T_e2eaa_row0_col1, #T_e2eaa_row1_col0 {\n",
              "  background-color: #fff7fb;\n",
              "  color: #000000;\n",
              "}\n",
              "</style>\n",
              "<table id=\"T_e2eaa\" class=\"dataframe\">\n",
              "  <thead>\n",
              "    <tr>\n",
              "      <th class=\"blank level0\" >&nbsp;</th>\n",
              "      <th id=\"T_e2eaa_level0_col0\" class=\"col_heading level0 col0\" >0</th>\n",
              "      <th id=\"T_e2eaa_level0_col1\" class=\"col_heading level0 col1\" >1</th>\n",
              "    </tr>\n",
              "  </thead>\n",
              "  <tbody>\n",
              "    <tr>\n",
              "      <th id=\"T_e2eaa_level0_row0\" class=\"row_heading level0 row0\" >0</th>\n",
              "      <td id=\"T_e2eaa_row0_col0\" class=\"data row0 col0\" >35</td>\n",
              "      <td id=\"T_e2eaa_row0_col1\" class=\"data row0 col1\" >9</td>\n",
              "    </tr>\n",
              "    <tr>\n",
              "      <th id=\"T_e2eaa_level0_row1\" class=\"row_heading level0 row1\" >1</th>\n",
              "      <td id=\"T_e2eaa_row1_col0\" class=\"data row1 col0\" >19</td>\n",
              "      <td id=\"T_e2eaa_row1_col1\" class=\"data row1 col1\" >14</td>\n",
              "    </tr>\n",
              "  </tbody>\n",
              "</table>\n"
            ]
          },
          "metadata": {},
          "execution_count": 17
        }
      ]
    },
    {
      "cell_type": "code",
      "source": [
        "print(confusion_matrix(y_test, rounded))\n",
        "print(classification_report(y_test, rounded))"
      ],
      "metadata": {
        "colab": {
          "base_uri": "https://localhost:8080/"
        },
        "id": "WmKlGA01gUyr",
        "outputId": "cfd232cc-34bf-46d4-a67f-fd94887d6805"
      },
      "execution_count": 18,
      "outputs": [
        {
          "output_type": "stream",
          "name": "stdout",
          "text": [
            "[[35  9]\n",
            " [19 14]]\n",
            "              precision    recall  f1-score   support\n",
            "\n",
            "           0       0.65      0.80      0.71        44\n",
            "           1       0.61      0.42      0.50        33\n",
            "\n",
            "    accuracy                           0.64        77\n",
            "   macro avg       0.63      0.61      0.61        77\n",
            "weighted avg       0.63      0.64      0.62        77\n",
            "\n"
          ]
        }
      ]
    },
    {
      "cell_type": "markdown",
      "source": [
        "**Predicciones sobre una muestra de prueba**"
      ],
      "metadata": {
        "id": "ScsMH8mRkYGi"
      }
    },
    {
      "cell_type": "code",
      "source": [
        "#Pregnancies \tGlucose \tBloodPressure \tSkinThickness \tInsulin \tBMI \tDiabetesPedigreeFunction \tAge\n",
        "X_new = [1,103,80,11,82,19.4,0.491,22]\n",
        "X_new = np.expand_dims(X_new, 0)\n",
        "np.shape(X_new)\n",
        "\n",
        "\n",
        "prediccion = (model.predict(X_new) > 0.5).astype(int)\n",
        "\n",
        "clase = ['No Diabetes', 'Diabetes']\n",
        "\n",
        "\n",
        "print('Diagnóstico:', clase[prediccion[0][0]])"
      ],
      "metadata": {
        "colab": {
          "base_uri": "https://localhost:8080/"
        },
        "id": "6ut82tltg9Ou",
        "outputId": "83455658-a943-45e5-c771-9f799544e8b0"
      },
      "execution_count": 29,
      "outputs": [
        {
          "output_type": "stream",
          "name": "stdout",
          "text": [
            "1/1 [==============================] - 0s 54ms/step\n",
            "Diagnóstico: No Diabetes\n"
          ]
        }
      ]
    },
    {
      "cell_type": "code",
      "source": [],
      "metadata": {
        "id": "uZ8C3XWhZhT1"
      },
      "execution_count": null,
      "outputs": []
    }
  ]
}